{
 "cells": [
  {
   "cell_type": "markdown",
   "metadata": {},
   "source": [
    "## Lab: 12 - Data Analysis with Pandas\n",
    "### Videogames Sales\n",
    "#### Ahmad Alrasheed - 25/10/2021"
   ]
  },
  {
   "cell_type": "code",
   "execution_count": null,
   "metadata": {},
   "outputs": [],
   "source": [
    "import pandas as pd\n",
    "df = pd.read_csv('vgsales.csv') \n",
    "df"
   ]
  },
  {
   "cell_type": "markdown",
   "metadata": {},
   "source": [
    "\n",
    "1. Which company is the most common video game publisher?"
   ]
  },
  {
   "cell_type": "code",
   "execution_count": 68,
   "metadata": {},
   "outputs": [
    {
     "data": {
      "text/plain": [
       "'Electronic Arts'"
      ]
     },
     "execution_count": 68,
     "metadata": {},
     "output_type": "execute_result"
    }
   ],
   "source": [
    "def most_common_publisher():\n",
    "    return df.Publisher.mode()[0]\n",
    "most_common_publisher()"
   ]
  },
  {
   "cell_type": "markdown",
   "metadata": {},
   "source": [
    "2. What’s the most common platform?"
   ]
  },
  {
   "cell_type": "code",
   "execution_count": 70,
   "metadata": {},
   "outputs": [
    {
     "data": {
      "text/plain": [
       "'DS'"
      ]
     },
     "execution_count": 70,
     "metadata": {},
     "output_type": "execute_result"
    }
   ],
   "source": [
    "def most_common_platform():\n",
    "     return df['Platform'].mode()[0]\n",
    "most_common_platform()"
   ]
  },
  {
   "cell_type": "markdown",
   "metadata": {},
   "source": [
    "3. What about the most common genre?"
   ]
  },
  {
   "cell_type": "code",
   "execution_count": 72,
   "metadata": {},
   "outputs": [
    {
     "data": {
      "text/plain": [
       "'Action'"
      ]
     },
     "execution_count": 72,
     "metadata": {},
     "output_type": "execute_result"
    }
   ],
   "source": [
    "def most_common_genre():\n",
    "     return df['Genre'].mode()[0]\n",
    "most_common_genre()"
   ]
  },
  {
   "cell_type": "markdown",
   "metadata": {},
   "source": [
    "4. What are the top 20 highest grossing games?"
   ]
  },
  {
   "cell_type": "code",
   "execution_count": null,
   "metadata": {},
   "outputs": [],
   "source": [
    "def top_twenty_grossing_games():\n",
    "    return df[['Name','Global_Sales']].sort_values('Global_Sales', ascending=False).head(20)\n",
    "top_twenty_grossing_games()"
   ]
  },
  {
   "cell_type": "markdown",
   "metadata": {},
   "source": [
    "5. For North American video game sales, what’s the median?"
   ]
  },
  {
   "cell_type": "code",
   "execution_count": 321,
   "metadata": {},
   "outputs": [
    {
     "data": {
      "text/html": [
       "<div>\n",
       "<style scoped>\n",
       "    .dataframe tbody tr th:only-of-type {\n",
       "        vertical-align: middle;\n",
       "    }\n",
       "\n",
       "    .dataframe tbody tr th {\n",
       "        vertical-align: top;\n",
       "    }\n",
       "\n",
       "    .dataframe thead th {\n",
       "        text-align: right;\n",
       "    }\n",
       "</style>\n",
       "<table border=\"1\" class=\"dataframe\">\n",
       "  <thead>\n",
       "    <tr style=\"text-align: right;\">\n",
       "      <th></th>\n",
       "      <th>Name</th>\n",
       "      <th>NA_Sales</th>\n",
       "    </tr>\n",
       "  </thead>\n",
       "  <tbody>\n",
       "    <tr>\n",
       "      <th>10802</th>\n",
       "      <td>Bladestorm: The Hundred Years' War</td>\n",
       "      <td>0.08</td>\n",
       "    </tr>\n",
       "    <tr>\n",
       "      <th>9569</th>\n",
       "      <td>Batman: Arkham Knight</td>\n",
       "      <td>0.08</td>\n",
       "    </tr>\n",
       "    <tr>\n",
       "      <th>8550</th>\n",
       "      <td>Wakeboarding Unleashed Featuring Shaun Murray</td>\n",
       "      <td>0.08</td>\n",
       "    </tr>\n",
       "    <tr>\n",
       "      <th>10799</th>\n",
       "      <td>Mind Quiz</td>\n",
       "      <td>0.08</td>\n",
       "    </tr>\n",
       "    <tr>\n",
       "      <th>9197</th>\n",
       "      <td>The Walking Dead: Season Two</td>\n",
       "      <td>0.08</td>\n",
       "    </tr>\n",
       "    <tr>\n",
       "      <th>9192</th>\n",
       "      <td>Dino Crisis 3</td>\n",
       "      <td>0.08</td>\n",
       "    </tr>\n",
       "    <tr>\n",
       "      <th>10181</th>\n",
       "      <td>Smash Court Tennis 3</td>\n",
       "      <td>0.08</td>\n",
       "    </tr>\n",
       "    <tr>\n",
       "      <th>8802</th>\n",
       "      <td>Disney's The Lion King: Simba's Mighty Adventure</td>\n",
       "      <td>0.08</td>\n",
       "    </tr>\n",
       "    <tr>\n",
       "      <th>8724</th>\n",
       "      <td>Driven</td>\n",
       "      <td>0.08</td>\n",
       "    </tr>\n",
       "    <tr>\n",
       "      <th>10793</th>\n",
       "      <td>Glory Days 2</td>\n",
       "      <td>0.08</td>\n",
       "    </tr>\n",
       "  </tbody>\n",
       "</table>\n",
       "</div>"
      ],
      "text/plain": [
       "                                                   Name  NA_Sales\n",
       "10802                Bladestorm: The Hundred Years' War      0.08\n",
       "9569                              Batman: Arkham Knight      0.08\n",
       "8550      Wakeboarding Unleashed Featuring Shaun Murray      0.08\n",
       "10799                                         Mind Quiz      0.08\n",
       "9197                       The Walking Dead: Season Two      0.08\n",
       "9192                                      Dino Crisis 3      0.08\n",
       "10181                              Smash Court Tennis 3      0.08\n",
       "8802   Disney's The Lion King: Simba's Mighty Adventure      0.08\n",
       "8724                                             Driven      0.08\n",
       "10793                                      Glory Days 2      0.08"
      ]
     },
     "execution_count": 321,
     "metadata": {},
     "output_type": "execute_result"
    }
   ],
   "source": [
    "def Na_median():\n",
    "    return df.NA_Sales.median()\n",
    "    \n",
    "Na_median()\n",
    "def Ten_values_surrounding_median():\n",
    "    mid_point=round(df.NA_Sales.count()/2)\n",
    "    return df[['Name','NA_Sales']].sort_values(by='NA_Sales',ascending=False)[mid_point-5:mid_point+5]\n",
    "Ten_values_surrounding_median()"
   ]
  },
  {
   "cell_type": "markdown",
   "metadata": {},
   "source": [
    "6. For the top-selling game of all time, how many standard deviations above/below the mean are its sales for North America?"
   ]
  },
  {
   "cell_type": "code",
   "execution_count": 207,
   "metadata": {},
   "outputs": [
    {
     "data": {
      "text/plain": [
       "50.47898767479108"
      ]
     },
     "execution_count": 207,
     "metadata": {},
     "output_type": "execute_result"
    }
   ],
   "source": [
    "def Z_score():\n",
    "    score_for_top_selling_game=df[['Name', 'NA_Sales']].sort_values('NA_Sales', ascending=False)[0:1]['NA_Sales'][0]\n",
    "    standard_deviation=df.NA_Sales.std()\n",
    "    mean_value=df.NA_Sales.mean()\n",
    "    #  zscore = (value-mean)/standard deviation\n",
    "    z_score=((score_for_top_selling_game-mean_value)/standard_deviation)\n",
    "    return z_score\n",
    "Z_score()"
   ]
  },
  {
   "cell_type": "markdown",
   "metadata": {},
   "source": [
    "7. The Nintendo Wii seems to have outdone itself with games. How does its average number of sales compare with all of the other platforms?"
   ]
  },
  {
   "cell_type": "code",
   "execution_count": 255,
   "metadata": {},
   "outputs": [],
   "source": [
    "def Nintendo_global_sales():\n",
    "    pass\n",
    "Nintendo_global_sales()\n",
    "# df"
   ]
  },
  {
   "cell_type": "markdown",
   "metadata": {},
   "source": [
    "* Come up with 3 more questions that can be answered with this data set."
   ]
  },
  {
   "cell_type": "markdown",
   "metadata": {},
   "source": [
    "* Show the least common 10 video games according to the Global sales"
   ]
  },
  {
   "cell_type": "code",
   "execution_count": 313,
   "metadata": {},
   "outputs": [
    {
     "data": {
      "text/plain": [
       "16597                                   Spirits & Spells\n",
       "16188                                   Toro to Morimori\n",
       "16187                                     Jewel Quest II\n",
       "16186                                        BattleForge\n",
       "16185             Tantei Jinguuji Saburo: Hai to Diamond\n",
       "16184    Fatal Fury: Battle Archives Volume 2 (JP sales)\n",
       "16183                        Sakura-Sou no Pet na Kanojo\n",
       "16182                                    Princess Arthur\n",
       "16181                               Resistance Dual Pack\n",
       "16180                          Rozen Maiden: Gebetgarten\n",
       "Name: Name, dtype: object"
      ]
     },
     "execution_count": 313,
     "metadata": {},
     "output_type": "execute_result"
    }
   ],
   "source": [
    "def least_common_game():\n",
    "    return df[['Name','Global_Sales']].sort_values(by='Global_Sales',ascending=True).head(10)['Name']\n",
    "least_common_game()"
   ]
  },
  {
   "cell_type": "markdown",
   "metadata": {},
   "source": [
    "* Show every unsold video game according to north america sales?"
   ]
  },
  {
   "cell_type": "code",
   "execution_count": 336,
   "metadata": {},
   "outputs": [
    {
     "data": {
      "text/html": [
       "<div>\n",
       "<style scoped>\n",
       "    .dataframe tbody tr th:only-of-type {\n",
       "        vertical-align: middle;\n",
       "    }\n",
       "\n",
       "    .dataframe tbody tr th {\n",
       "        vertical-align: top;\n",
       "    }\n",
       "\n",
       "    .dataframe thead th {\n",
       "        text-align: right;\n",
       "    }\n",
       "</style>\n",
       "<table border=\"1\" class=\"dataframe\">\n",
       "  <thead>\n",
       "    <tr style=\"text-align: right;\">\n",
       "      <th></th>\n",
       "      <th>Name</th>\n",
       "      <th>NA_Sales</th>\n",
       "    </tr>\n",
       "  </thead>\n",
       "  <tbody>\n",
       "    <tr>\n",
       "      <th>214</th>\n",
       "      <td>Monster Hunter Freedom 3</td>\n",
       "      <td>0.0</td>\n",
       "    </tr>\n",
       "    <tr>\n",
       "      <th>338</th>\n",
       "      <td>Friend Collection</td>\n",
       "      <td>0.0</td>\n",
       "    </tr>\n",
       "    <tr>\n",
       "      <th>383</th>\n",
       "      <td>Monster Hunter 4</td>\n",
       "      <td>0.0</td>\n",
       "    </tr>\n",
       "    <tr>\n",
       "      <th>402</th>\n",
       "      <td>English Training: Have Fun Improving Your Skills!</td>\n",
       "      <td>0.0</td>\n",
       "    </tr>\n",
       "    <tr>\n",
       "      <th>426</th>\n",
       "      <td>Dragon Quest VI: Maboroshi no Daichi</td>\n",
       "      <td>0.0</td>\n",
       "    </tr>\n",
       "    <tr>\n",
       "      <th>...</th>\n",
       "      <td>...</td>\n",
       "      <td>...</td>\n",
       "    </tr>\n",
       "    <tr>\n",
       "      <th>16587</th>\n",
       "      <td>Mezase!! Tsuri Master DS</td>\n",
       "      <td>0.0</td>\n",
       "    </tr>\n",
       "    <tr>\n",
       "      <th>16589</th>\n",
       "      <td>Chou Ezaru wa Akai Hana: Koi wa Tsuki ni Shiru...</td>\n",
       "      <td>0.0</td>\n",
       "    </tr>\n",
       "    <tr>\n",
       "      <th>16590</th>\n",
       "      <td>Eiyuu Densetsu: Sora no Kiseki Material Collec...</td>\n",
       "      <td>0.0</td>\n",
       "    </tr>\n",
       "    <tr>\n",
       "      <th>16595</th>\n",
       "      <td>SCORE International Baja 1000: The Official Game</td>\n",
       "      <td>0.0</td>\n",
       "    </tr>\n",
       "    <tr>\n",
       "      <th>16596</th>\n",
       "      <td>Know How 2</td>\n",
       "      <td>0.0</td>\n",
       "    </tr>\n",
       "  </tbody>\n",
       "</table>\n",
       "<p>4499 rows × 2 columns</p>\n",
       "</div>"
      ],
      "text/plain": [
       "                                                    Name  NA_Sales\n",
       "214                             Monster Hunter Freedom 3       0.0\n",
       "338                                    Friend Collection       0.0\n",
       "383                                     Monster Hunter 4       0.0\n",
       "402    English Training: Have Fun Improving Your Skills!       0.0\n",
       "426                 Dragon Quest VI: Maboroshi no Daichi       0.0\n",
       "...                                                  ...       ...\n",
       "16587                           Mezase!! Tsuri Master DS       0.0\n",
       "16589  Chou Ezaru wa Akai Hana: Koi wa Tsuki ni Shiru...       0.0\n",
       "16590  Eiyuu Densetsu: Sora no Kiseki Material Collec...       0.0\n",
       "16595   SCORE International Baja 1000: The Official Game       0.0\n",
       "16596                                         Know How 2       0.0\n",
       "\n",
       "[4499 rows x 2 columns]"
      ]
     },
     "execution_count": 336,
     "metadata": {},
     "output_type": "execute_result"
    }
   ],
   "source": [
    "def Unsold_game_in_NA():\n",
    "    return df[['Name','NA_Sales']].loc[df.NA_Sales==0]\n",
    "    \n",
    "Unsold_game_in_NA()"
   ]
  },
  {
   "cell_type": "markdown",
   "metadata": {},
   "source": [
    "* What is the year that have the biggest number of video games released?"
   ]
  },
  {
   "cell_type": "code",
   "execution_count": 312,
   "metadata": {},
   "outputs": [
    {
     "data": {
      "text/plain": [
       "2009.0"
      ]
     },
     "execution_count": 312,
     "metadata": {},
     "output_type": "execute_result"
    }
   ],
   "source": [
    "def most_common_year():\n",
    "     return df['Year'].mode()[0]\n",
    "most_common_year()"
   ]
  },
  {
   "cell_type": "markdown",
   "metadata": {},
   "source": [
    "### Testing"
   ]
  },
  {
   "cell_type": "code",
   "execution_count": 337,
   "metadata": {},
   "outputs": [
    {
     "name": "stdout",
     "output_type": "stream",
     "text": [
      "Success!!!\n"
     ]
    }
   ],
   "source": [
    "def test():\n",
    "    \n",
    "    def assert_equal(actual,expected):\n",
    "        assert actual == expected, f\"Expected {expected} but got {actual}\"\n",
    "\n",
    "    assert_equal(most_common_publisher(), \"Electronic Arts\")\n",
    "    assert_equal(most_common_platform(), \"DS\")\n",
    "    assert_equal(most_common_genre(), \"Action\")\n",
    "    assert_equal(top_twenty_grossing_games().iloc[0].Name, \"Wii Sports\")\n",
    "    assert_equal(top_twenty_grossing_games().iloc[19].Name, \"Brain Age: Train Your Brain in Minutes a Day\")\n",
    "    assert_equal(Na_median(), 0.08)\n",
    "    assert_equal(Ten_values_surrounding_median().iloc[0].Name, \"Bladestorm: The Hundred Years' War\")\n",
    "    assert_equal(Z_score(), 50.47898767479108)\n",
    "    assert_equal(least_common_game().iloc[0], \"Spirits & Spells\")\n",
    "    assert_equal(most_common_year(), 2009.0)\n",
    "    assert_equal(Unsold_game_in_NA().iloc[0].Name, \"Monster Hunter Freedom 3\")\n",
    "    print(\"Success!!!\")\n",
    "\n",
    "test()"
   ]
  }
 ],
 "metadata": {
  "interpreter": {
   "hash": "800f97ac5cf81aa0bee58c21e1eb9ca2e38f0bda8821f39067456bf0b5c8a61e"
  },
  "kernelspec": {
   "display_name": "Python 3.9.5 64-bit ('.venv': poetry)",
   "name": "python3"
  },
  "language_info": {
   "codemirror_mode": {
    "name": "ipython",
    "version": 3
   },
   "file_extension": ".py",
   "mimetype": "text/x-python",
   "name": "python",
   "nbconvert_exporter": "python",
   "pygments_lexer": "ipython3",
   "version": "3.9.5"
  },
  "orig_nbformat": 4
 },
 "nbformat": 4,
 "nbformat_minor": 2
}
